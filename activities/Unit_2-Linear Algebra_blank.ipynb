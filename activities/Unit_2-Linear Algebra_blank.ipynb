{
 "cells": [
  {
   "cell_type": "markdown",
   "id": "c5206f0e",
   "metadata": {},
   "source": [
    "# Linear Algebra"
   ]
  },
  {
   "cell_type": "markdown",
   "id": "1410cb43",
   "metadata": {},
   "source": [
    "In this notebook, you will:\n",
    "\n",
    "* Perform linear algebra operations using NumPy.\n",
    "* Compare the efficiency of different approaches (for loops, apply, NumPy primitives) for vectorized operations.\n",
    "* Use timing functions to measure the performance of each approach."
   ]
  },
  {
   "cell_type": "code",
   "execution_count": 1,
   "id": "18d4aa5f",
   "metadata": {},
   "outputs": [],
   "source": [
    "import numpy as np\n",
    "import pandas as pd\n",
    "import time\n",
    "import seaborn as sns\n",
    "import matplotlib.pyplot as plt"
   ]
  },
  {
   "cell_type": "markdown",
   "id": "28ec17f4",
   "metadata": {},
   "source": [
    "Addition, scalar multiplication, and multiplication"
   ]
  },
  {
   "cell_type": "code",
   "execution_count": 2,
   "id": "2bc811dc",
   "metadata": {},
   "outputs": [],
   "source": [
    "arr = np.arange(1, 13)\n",
    "\n",
    "reshaped_matrix = arr.reshape(3, 4)"
   ]
  },
  {
   "cell_type": "code",
   "execution_count": 3,
   "id": "578443e7",
   "metadata": {},
   "outputs": [
    {
     "name": "stdout",
     "output_type": "stream",
     "text": [
      "Original array (int):\n",
      "[1 0 3 5]\n",
      "\n",
      "Array cast to float:\n",
      "[1. 0. 3. 5.]\n",
      "\n",
      "Array cast to boolean:\n",
      "[ True False  True  True]\n"
     ]
    }
   ],
   "source": [
    "int_array = np.array([1, 0, 3, 5])\n",
    "\n",
    "float_array = int_array.astype(float)\n",
    "\n",
    "bool_array = int_array.astype(bool)\n",
    "\n",
    "print(\"Original array (int):\")\n",
    "print(int_array)\n",
    "\n",
    "print(\"\\nArray cast to float:\")\n",
    "print(float_array)\n",
    "\n",
    "\n",
    "print(\"\\nArray cast to boolean:\")\n",
    "print(bool_array)"
   ]
  },
  {
   "cell_type": "code",
   "execution_count": 4,
   "id": "24eb431b",
   "metadata": {},
   "outputs": [
    {
     "data": {
      "text/plain": [
       "8"
      ]
     },
     "execution_count": 4,
     "metadata": {},
     "output_type": "execute_result"
    }
   ],
   "source": [
    "int_array = np.array([1, 0, 3, 5]).astype(np.int16)\n",
    "int_array.nbytes"
   ]
  },
  {
   "cell_type": "code",
   "execution_count": 5,
   "id": "c051ce0f",
   "metadata": {},
   "outputs": [
    {
     "name": "stdout",
     "output_type": "stream",
     "text": [
      "Matrix multiplication result (A x B):\n",
      "[[14]\n",
      " [32]\n",
      " [50]]\n",
      "\n",
      "Transpose of matrix A:\n",
      "[[1 4 7]\n",
      " [2 5 8]\n",
      " [3 6 9]]\n"
     ]
    }
   ],
   "source": [
    "A = np.array([[1, 2, 3], \n",
    "              [4, 5, 6], \n",
    "              [7, 8, 9]])\n",
    "\n",
    "B = np.array([[1], [2], [3]])\n",
    "\n",
    "# Matrix multiplication using NumPy\n",
    "result = np.dot(A, B)\n",
    "print(\"Matrix multiplication result (A x B):\")\n",
    "print(result)\n",
    "\n",
    "# Transpose of a matrix\n",
    "A_transpose = A.T\n",
    "print(\"\\nTranspose of matrix A:\")\n",
    "print(A_transpose)"
   ]
  },
  {
   "cell_type": "markdown",
   "id": "6b3d1442",
   "metadata": {},
   "source": [
    "## Below find a collection of useful expressions.\n",
    "(Won't go over, test on own time)"
   ]
  },
  {
   "cell_type": "code",
   "execution_count": 10,
   "id": "2fa8911a",
   "metadata": {},
   "outputs": [
    {
     "name": "stdout",
     "output_type": "stream",
     "text": [
      "1D array: [1 2 3 4 5]\n",
      "2D array:\n",
      " [[1 2 3]\n",
      " [4 5 6]\n",
      " [7 8 9]]\n"
     ]
    }
   ],
   "source": [
    "# 1. Create NumPy Arrays\n",
    "# Create a 1D array\n",
    "array_1d = np.array([1, 2, 3, 4, 5])\n",
    "print(\"1D array:\", array_1d)\n",
    "\n",
    "# Create a 2D array (matrix)\n",
    "array_2d = np.array([[1, 2, 3], [4, 5, 6], [7, 8, 9]])\n",
    "print(\"2D array:\\n\", array_2d)"
   ]
  },
  {
   "cell_type": "code",
   "execution_count": 11,
   "id": "9245d98d",
   "metadata": {},
   "outputs": [
    {
     "name": "stdout",
     "output_type": "stream",
     "text": [
      "Array after addition: [3 4 5 6 7]\n",
      "Array after multiplication: [ 3  6  9 12 15]\n"
     ]
    }
   ],
   "source": [
    "# 2. Basic Array Operations\n",
    "# Element-wise addition, subtraction, multiplication, and division\n",
    "array_sum = array_1d + 2  # Add 2 to each element\n",
    "array_mul = array_1d * 3  # Multiply each element by 3\n",
    "print(\"Array after addition:\", array_sum)\n",
    "print(\"Array after multiplication:\", array_mul)"
   ]
  },
  {
   "cell_type": "code",
   "execution_count": 8,
   "id": "6507a7d2",
   "metadata": {},
   "outputs": [
    {
     "name": "stdout",
     "output_type": "stream",
     "text": [
      "Matrix A:\n",
      " [[1 2]\n",
      " [3 4]]\n",
      "Matrix B:\n",
      " [[5 6]\n",
      " [7 8]]\n",
      "Matrix multiplication (A dot B):\n",
      " [[19 22]\n",
      " [43 50]]\n"
     ]
    }
   ],
   "source": [
    "# 3. Matrix Multiplication\n",
    "matrix_a = np.array([[1, 2], [3, 4]])\n",
    "matrix_b = np.array([[5, 6], [7, 8]])\n",
    "\n",
    "matrix_mul = np.dot(matrix_a, matrix_b)  # Matrix multiplication using dot product\n",
    "print(\"Matrix A:\\n\", matrix_a)\n",
    "print(\"Matrix B:\\n\", matrix_b)\n",
    "print(\"Matrix multiplication (A dot B):\\n\", matrix_mul)"
   ]
  },
  {
   "cell_type": "code",
   "execution_count": 9,
   "id": "1695e225",
   "metadata": {},
   "outputs": [
    {
     "name": "stdout",
     "output_type": "stream",
     "text": [
      "First row of 2D array: [1 2 3]\n",
      "First column of 2D array: [1 4 7]\n",
      "Element at position (1,1): 5\n"
     ]
    }
   ],
   "source": [
    "# 4. Array Slicing and Indexing\n",
    "# Access specific rows, columns, or elements\n",
    "print(\"First row of 2D array:\", array_2d[0])       # First row\n",
    "print(\"First column of 2D array:\", array_2d[:, 0]) # First column\n",
    "print(\"Element at position (1,1):\", array_2d[1, 1])  # Element at (1,1)"
   ]
  },
  {
   "cell_type": "code",
   "execution_count": 10,
   "id": "f00b606b",
   "metadata": {},
   "outputs": [
    {
     "name": "stdout",
     "output_type": "stream",
     "text": [
      "Broadcasting result:\n",
      " [[5 6 7]\n",
      " [6 7 8]\n",
      " [7 8 9]]\n"
     ]
    }
   ],
   "source": [
    "# 5. Broadcasting \n",
    "# Apply operations on arrays of different shapes\n",
    "array_1d_broad = np.array([1, 2, 3])\n",
    "array_2d_broad = np.array([[4], [5], [6]])\n",
    "\n",
    "broadcast_result = array_1d_broad + array_2d_broad\n",
    "print(\"Broadcasting result:\\n\", broadcast_result)"
   ]
  },
  {
   "cell_type": "code",
   "execution_count": null,
   "id": "d9e3cc7c",
   "metadata": {},
   "outputs": [],
   "source": []
  },
  {
   "cell_type": "markdown",
   "id": "a3b8450f",
   "metadata": {},
   "source": [
    "# Sampling\n",
    "Won't go over, look over your own time"
   ]
  },
  {
   "cell_type": "code",
   "execution_count": 12,
   "id": "47a98976",
   "metadata": {},
   "outputs": [
    {
     "name": "stdout",
     "output_type": "stream",
     "text": [
      "Random numbers from uniform distribution: [0.43532323 0.20035114 0.85744449 0.94537654 0.76921452]\n",
      "Random numbers from normal distribution: [ 0.69936219 -1.07754021  1.57889053 -1.74498079  1.2860253 ]\n",
      "Random integers between 10 and 100: [15 26 96 76 95]\n",
      "Random sample from array: [20 50 30]\n",
      "Random permutation of the array: [10 50 20 30 40]\n"
     ]
    }
   ],
   "source": [
    "# Uniform Distribution\n",
    "random_uniform = np.random.rand(5)  # 5 random numbers between 0 and 1\n",
    "print(\"Random numbers from uniform distribution:\", random_uniform)\n",
    "\n",
    "# Normal distribution (mean=0, std=1)\n",
    "random_normal = np.random.randn(5)  # 5 random numbers from a standard normal distribution\n",
    "print(\"Random numbers from normal distribution:\", random_normal)\n",
    "\n",
    "# Random integers with range\n",
    "random_integers = np.random.randint(10, 100, size=5)  # 5 random integers between 10 and 100\n",
    "print(\"Random integers between 10 and 100:\", random_integers)\n",
    "\n",
    "# Random sampling from a 1D array\n",
    "array = np.array([10, 20, 30, 40, 50])\n",
    "random_sample = np.random.choice(array, size=3, replace=False)  # Random sample of 3 elements without replacement\n",
    "print(\"Random sample from array:\", random_sample)\n",
    "\n",
    "# 5. Generating random permutations of arrays\n",
    "random_permutation = np.random.permutation(array)  # Generate a random permutation of the array\n",
    "print(\"Random permutation of the array:\", random_permutation)"
   ]
  },
  {
   "cell_type": "code",
   "execution_count": null,
   "id": "443a3498",
   "metadata": {},
   "outputs": [],
   "source": []
  },
  {
   "cell_type": "code",
   "execution_count": null,
   "id": "732c64f4",
   "metadata": {},
   "outputs": [],
   "source": []
  },
  {
   "cell_type": "markdown",
   "id": "6ea42cd0",
   "metadata": {},
   "source": [
    "# Benchmarking Time"
   ]
  },
  {
   "cell_type": "code",
   "execution_count": 13,
   "id": "73b03f1c",
   "metadata": {},
   "outputs": [
    {
     "name": "stdout",
     "output_type": "stream",
     "text": [
      "Time taken using a for loop: 0.2098 seconds\n"
     ]
    }
   ],
   "source": [
    "data = np.random.rand(1000000)\n",
    "\n",
    "start_time = time.time()\n",
    "\n",
    "squared_for_loop = []\n",
    "for x in data:\n",
    "    squared_for_loop.append(x ** 2)\n",
    "\n",
    "end_time = time.time()\n",
    "for_loop_time = end_time - start_time\n",
    "\n",
    "print(f\"Time taken using a for loop: {for_loop_time:.4f} seconds\")"
   ]
  },
  {
   "cell_type": "code",
   "execution_count": 18,
   "id": "7183c6ce",
   "metadata": {},
   "outputs": [
    {
     "name": "stdout",
     "output_type": "stream",
     "text": [
      "Time taken using Pandas apply(): 0.3184 seconds\n"
     ]
    }
   ],
   "source": [
    "df = pd.DataFrame(data, columns=['Values'])\n",
    "\n",
    "start_time = time.time()\n",
    "\n",
    "squared_apply = df['Values'].apply(lambda x: x ** 2)\n",
    "\n",
    "end_time = time.time()\n",
    "apply_time = end_time - start_time\n",
    "\n",
    "print(f\"Time taken using Pandas apply(): {apply_time:.4f} seconds\")"
   ]
  },
  {
   "cell_type": "code",
   "execution_count": 30,
   "id": "88f5e706",
   "metadata": {},
   "outputs": [
    {
     "name": "stdout",
     "output_type": "stream",
     "text": [
      "Time taken using NumPy vectorization: 0.0054 seconds\n"
     ]
    }
   ],
   "source": [
    "start_time = time.time()\n",
    "\n",
    "# Calculate the square of each element using NumPy vectorized operation\n",
    "squared_numpy = np.square(data)\n",
    "\n",
    "end_time = time.time()\n",
    "numpy_time = end_time - start_time\n",
    "\n",
    "print(f\"Time taken using NumPy vectorization: {numpy_time:.4f} seconds\")"
   ]
  },
  {
   "cell_type": "markdown",
   "id": "a3f02804",
   "metadata": {},
   "source": [
    "# Your turn | Part 1"
   ]
  },
  {
   "cell_type": "markdown",
   "id": "4fdafa2c",
   "metadata": {},
   "source": [
    "#### Using np.random.rand, create a 1000 x 1000 matrix, and square every element using a forloop, pandas, and numpy. Benchmark its speed."
   ]
  },
  {
   "cell_type": "code",
   "execution_count": 48,
   "id": "01ee902a",
   "metadata": {},
   "outputs": [
    {
     "name": "stdout",
     "output_type": "stream",
     "text": [
      "Time taken using a for loop: 0.4723 seconds\n"
     ]
    }
   ],
   "source": [
    "matrix = np.random.rand(1000, 1000)\n",
    "\n",
    "start_time = time.time()\n",
    "\n",
    "squared_matrix = np.array([[ (lambda x: x**2)(val) for val in row ] for row in matrix])\n",
    "end_time = time.time()\n",
    "squared_matrix = pd.DataFrame(squared_matrix)\n",
    "\n",
    "\n",
    "\n",
    "for_loop_time = end_time - start_time\n",
    "\n",
    "print(f\"Time taken using a for loop: {for_loop_time:.4f} seconds\")\n"
   ]
  },
  {
   "cell_type": "code",
   "execution_count": 49,
   "id": "0964efa4",
   "metadata": {},
   "outputs": [
    {
     "data": {
      "text/html": [
       "<div>\n",
       "<style scoped>\n",
       "    .dataframe tbody tr th:only-of-type {\n",
       "        vertical-align: middle;\n",
       "    }\n",
       "\n",
       "    .dataframe tbody tr th {\n",
       "        vertical-align: top;\n",
       "    }\n",
       "\n",
       "    .dataframe thead th {\n",
       "        text-align: right;\n",
       "    }\n",
       "</style>\n",
       "<table border=\"1\" class=\"dataframe\">\n",
       "  <thead>\n",
       "    <tr style=\"text-align: right;\">\n",
       "      <th></th>\n",
       "      <th>0</th>\n",
       "      <th>1</th>\n",
       "      <th>2</th>\n",
       "      <th>3</th>\n",
       "      <th>4</th>\n",
       "      <th>5</th>\n",
       "      <th>6</th>\n",
       "      <th>7</th>\n",
       "      <th>8</th>\n",
       "      <th>9</th>\n",
       "      <th>...</th>\n",
       "      <th>990</th>\n",
       "      <th>991</th>\n",
       "      <th>992</th>\n",
       "      <th>993</th>\n",
       "      <th>994</th>\n",
       "      <th>995</th>\n",
       "      <th>996</th>\n",
       "      <th>997</th>\n",
       "      <th>998</th>\n",
       "      <th>999</th>\n",
       "    </tr>\n",
       "  </thead>\n",
       "  <tbody>\n",
       "    <tr>\n",
       "      <th>0</th>\n",
       "      <td>0.702738</td>\n",
       "      <td>0.263695</td>\n",
       "      <td>0.000073</td>\n",
       "      <td>0.163405</td>\n",
       "      <td>0.420013</td>\n",
       "      <td>0.017558</td>\n",
       "      <td>0.182860</td>\n",
       "      <td>0.206532</td>\n",
       "      <td>0.026974</td>\n",
       "      <td>0.022638</td>\n",
       "      <td>...</td>\n",
       "      <td>0.553697</td>\n",
       "      <td>0.541373</td>\n",
       "      <td>0.054893</td>\n",
       "      <td>0.005803</td>\n",
       "      <td>0.998997</td>\n",
       "      <td>0.078294</td>\n",
       "      <td>0.070987</td>\n",
       "      <td>0.450162</td>\n",
       "      <td>0.490978</td>\n",
       "      <td>0.518671</td>\n",
       "    </tr>\n",
       "    <tr>\n",
       "      <th>1</th>\n",
       "      <td>0.182547</td>\n",
       "      <td>0.068819</td>\n",
       "      <td>0.290485</td>\n",
       "      <td>0.000564</td>\n",
       "      <td>0.447577</td>\n",
       "      <td>0.227485</td>\n",
       "      <td>0.587796</td>\n",
       "      <td>0.050988</td>\n",
       "      <td>0.001394</td>\n",
       "      <td>0.545704</td>\n",
       "      <td>...</td>\n",
       "      <td>0.095277</td>\n",
       "      <td>0.519542</td>\n",
       "      <td>0.872052</td>\n",
       "      <td>0.400914</td>\n",
       "      <td>0.025225</td>\n",
       "      <td>0.124691</td>\n",
       "      <td>0.018122</td>\n",
       "      <td>0.328552</td>\n",
       "      <td>0.960085</td>\n",
       "      <td>0.093793</td>\n",
       "    </tr>\n",
       "    <tr>\n",
       "      <th>2</th>\n",
       "      <td>0.590529</td>\n",
       "      <td>0.032066</td>\n",
       "      <td>0.168663</td>\n",
       "      <td>0.026405</td>\n",
       "      <td>0.877437</td>\n",
       "      <td>0.009878</td>\n",
       "      <td>0.428883</td>\n",
       "      <td>0.528965</td>\n",
       "      <td>0.027687</td>\n",
       "      <td>0.024143</td>\n",
       "      <td>...</td>\n",
       "      <td>0.526008</td>\n",
       "      <td>0.745926</td>\n",
       "      <td>0.925255</td>\n",
       "      <td>0.042025</td>\n",
       "      <td>0.140906</td>\n",
       "      <td>0.001593</td>\n",
       "      <td>0.101882</td>\n",
       "      <td>0.103125</td>\n",
       "      <td>0.004332</td>\n",
       "      <td>0.847354</td>\n",
       "    </tr>\n",
       "    <tr>\n",
       "      <th>3</th>\n",
       "      <td>0.266225</td>\n",
       "      <td>0.027990</td>\n",
       "      <td>0.018614</td>\n",
       "      <td>0.273727</td>\n",
       "      <td>0.585266</td>\n",
       "      <td>0.335884</td>\n",
       "      <td>0.000136</td>\n",
       "      <td>0.863548</td>\n",
       "      <td>0.357473</td>\n",
       "      <td>0.006497</td>\n",
       "      <td>...</td>\n",
       "      <td>0.329193</td>\n",
       "      <td>0.000053</td>\n",
       "      <td>0.265218</td>\n",
       "      <td>0.474862</td>\n",
       "      <td>0.003389</td>\n",
       "      <td>0.901688</td>\n",
       "      <td>0.541307</td>\n",
       "      <td>0.673355</td>\n",
       "      <td>0.254380</td>\n",
       "      <td>0.438243</td>\n",
       "    </tr>\n",
       "    <tr>\n",
       "      <th>4</th>\n",
       "      <td>0.012510</td>\n",
       "      <td>0.216450</td>\n",
       "      <td>0.175609</td>\n",
       "      <td>0.027478</td>\n",
       "      <td>0.223422</td>\n",
       "      <td>0.146684</td>\n",
       "      <td>0.027475</td>\n",
       "      <td>0.735977</td>\n",
       "      <td>0.099811</td>\n",
       "      <td>0.695720</td>\n",
       "      <td>...</td>\n",
       "      <td>0.000020</td>\n",
       "      <td>0.590954</td>\n",
       "      <td>0.355227</td>\n",
       "      <td>0.007538</td>\n",
       "      <td>0.000421</td>\n",
       "      <td>0.737024</td>\n",
       "      <td>0.007477</td>\n",
       "      <td>0.329881</td>\n",
       "      <td>0.042046</td>\n",
       "      <td>0.158994</td>\n",
       "    </tr>\n",
       "    <tr>\n",
       "      <th>...</th>\n",
       "      <td>...</td>\n",
       "      <td>...</td>\n",
       "      <td>...</td>\n",
       "      <td>...</td>\n",
       "      <td>...</td>\n",
       "      <td>...</td>\n",
       "      <td>...</td>\n",
       "      <td>...</td>\n",
       "      <td>...</td>\n",
       "      <td>...</td>\n",
       "      <td>...</td>\n",
       "      <td>...</td>\n",
       "      <td>...</td>\n",
       "      <td>...</td>\n",
       "      <td>...</td>\n",
       "      <td>...</td>\n",
       "      <td>...</td>\n",
       "      <td>...</td>\n",
       "      <td>...</td>\n",
       "      <td>...</td>\n",
       "      <td>...</td>\n",
       "    </tr>\n",
       "    <tr>\n",
       "      <th>995</th>\n",
       "      <td>0.433006</td>\n",
       "      <td>0.878671</td>\n",
       "      <td>0.281746</td>\n",
       "      <td>0.525957</td>\n",
       "      <td>0.811328</td>\n",
       "      <td>0.085448</td>\n",
       "      <td>0.011764</td>\n",
       "      <td>0.364288</td>\n",
       "      <td>0.537720</td>\n",
       "      <td>0.583321</td>\n",
       "      <td>...</td>\n",
       "      <td>0.234649</td>\n",
       "      <td>0.012782</td>\n",
       "      <td>0.013824</td>\n",
       "      <td>0.553846</td>\n",
       "      <td>0.061096</td>\n",
       "      <td>0.598210</td>\n",
       "      <td>0.541455</td>\n",
       "      <td>0.326384</td>\n",
       "      <td>0.109317</td>\n",
       "      <td>0.133882</td>\n",
       "    </tr>\n",
       "    <tr>\n",
       "      <th>996</th>\n",
       "      <td>0.258995</td>\n",
       "      <td>0.399316</td>\n",
       "      <td>0.062369</td>\n",
       "      <td>0.001199</td>\n",
       "      <td>0.175682</td>\n",
       "      <td>0.398680</td>\n",
       "      <td>0.138865</td>\n",
       "      <td>0.570466</td>\n",
       "      <td>0.080284</td>\n",
       "      <td>0.108639</td>\n",
       "      <td>...</td>\n",
       "      <td>0.426254</td>\n",
       "      <td>0.179807</td>\n",
       "      <td>0.062793</td>\n",
       "      <td>0.068589</td>\n",
       "      <td>0.059469</td>\n",
       "      <td>0.968701</td>\n",
       "      <td>0.253140</td>\n",
       "      <td>0.640614</td>\n",
       "      <td>0.125996</td>\n",
       "      <td>0.873858</td>\n",
       "    </tr>\n",
       "    <tr>\n",
       "      <th>997</th>\n",
       "      <td>0.002231</td>\n",
       "      <td>0.628184</td>\n",
       "      <td>0.000066</td>\n",
       "      <td>0.442441</td>\n",
       "      <td>0.455095</td>\n",
       "      <td>0.362633</td>\n",
       "      <td>0.405864</td>\n",
       "      <td>0.699863</td>\n",
       "      <td>0.639539</td>\n",
       "      <td>0.225824</td>\n",
       "      <td>...</td>\n",
       "      <td>0.263449</td>\n",
       "      <td>0.387783</td>\n",
       "      <td>0.560546</td>\n",
       "      <td>0.533201</td>\n",
       "      <td>0.198184</td>\n",
       "      <td>0.274832</td>\n",
       "      <td>0.065974</td>\n",
       "      <td>0.004802</td>\n",
       "      <td>0.804189</td>\n",
       "      <td>0.447884</td>\n",
       "    </tr>\n",
       "    <tr>\n",
       "      <th>998</th>\n",
       "      <td>0.374148</td>\n",
       "      <td>0.043393</td>\n",
       "      <td>0.058970</td>\n",
       "      <td>0.002308</td>\n",
       "      <td>0.010706</td>\n",
       "      <td>0.135996</td>\n",
       "      <td>0.196277</td>\n",
       "      <td>0.998735</td>\n",
       "      <td>0.074724</td>\n",
       "      <td>0.645682</td>\n",
       "      <td>...</td>\n",
       "      <td>0.448996</td>\n",
       "      <td>0.947833</td>\n",
       "      <td>0.589411</td>\n",
       "      <td>0.703693</td>\n",
       "      <td>0.307943</td>\n",
       "      <td>0.649183</td>\n",
       "      <td>0.544285</td>\n",
       "      <td>0.257590</td>\n",
       "      <td>0.760747</td>\n",
       "      <td>0.005636</td>\n",
       "    </tr>\n",
       "    <tr>\n",
       "      <th>999</th>\n",
       "      <td>0.968155</td>\n",
       "      <td>0.148000</td>\n",
       "      <td>0.946247</td>\n",
       "      <td>0.761734</td>\n",
       "      <td>0.022627</td>\n",
       "      <td>0.761718</td>\n",
       "      <td>0.000513</td>\n",
       "      <td>0.006113</td>\n",
       "      <td>0.168052</td>\n",
       "      <td>0.808156</td>\n",
       "      <td>...</td>\n",
       "      <td>0.066809</td>\n",
       "      <td>0.817246</td>\n",
       "      <td>0.190856</td>\n",
       "      <td>0.527088</td>\n",
       "      <td>0.610046</td>\n",
       "      <td>0.086363</td>\n",
       "      <td>0.753769</td>\n",
       "      <td>0.005830</td>\n",
       "      <td>0.585337</td>\n",
       "      <td>0.822160</td>\n",
       "    </tr>\n",
       "  </tbody>\n",
       "</table>\n",
       "<p>1000 rows × 1000 columns</p>\n",
       "</div>"
      ],
      "text/plain": [
       "          0         1         2         3         4         5         6    \\\n",
       "0    0.702738  0.263695  0.000073  0.163405  0.420013  0.017558  0.182860   \n",
       "1    0.182547  0.068819  0.290485  0.000564  0.447577  0.227485  0.587796   \n",
       "2    0.590529  0.032066  0.168663  0.026405  0.877437  0.009878  0.428883   \n",
       "3    0.266225  0.027990  0.018614  0.273727  0.585266  0.335884  0.000136   \n",
       "4    0.012510  0.216450  0.175609  0.027478  0.223422  0.146684  0.027475   \n",
       "..        ...       ...       ...       ...       ...       ...       ...   \n",
       "995  0.433006  0.878671  0.281746  0.525957  0.811328  0.085448  0.011764   \n",
       "996  0.258995  0.399316  0.062369  0.001199  0.175682  0.398680  0.138865   \n",
       "997  0.002231  0.628184  0.000066  0.442441  0.455095  0.362633  0.405864   \n",
       "998  0.374148  0.043393  0.058970  0.002308  0.010706  0.135996  0.196277   \n",
       "999  0.968155  0.148000  0.946247  0.761734  0.022627  0.761718  0.000513   \n",
       "\n",
       "          7         8         9    ...       990       991       992  \\\n",
       "0    0.206532  0.026974  0.022638  ...  0.553697  0.541373  0.054893   \n",
       "1    0.050988  0.001394  0.545704  ...  0.095277  0.519542  0.872052   \n",
       "2    0.528965  0.027687  0.024143  ...  0.526008  0.745926  0.925255   \n",
       "3    0.863548  0.357473  0.006497  ...  0.329193  0.000053  0.265218   \n",
       "4    0.735977  0.099811  0.695720  ...  0.000020  0.590954  0.355227   \n",
       "..        ...       ...       ...  ...       ...       ...       ...   \n",
       "995  0.364288  0.537720  0.583321  ...  0.234649  0.012782  0.013824   \n",
       "996  0.570466  0.080284  0.108639  ...  0.426254  0.179807  0.062793   \n",
       "997  0.699863  0.639539  0.225824  ...  0.263449  0.387783  0.560546   \n",
       "998  0.998735  0.074724  0.645682  ...  0.448996  0.947833  0.589411   \n",
       "999  0.006113  0.168052  0.808156  ...  0.066809  0.817246  0.190856   \n",
       "\n",
       "          993       994       995       996       997       998       999  \n",
       "0    0.005803  0.998997  0.078294  0.070987  0.450162  0.490978  0.518671  \n",
       "1    0.400914  0.025225  0.124691  0.018122  0.328552  0.960085  0.093793  \n",
       "2    0.042025  0.140906  0.001593  0.101882  0.103125  0.004332  0.847354  \n",
       "3    0.474862  0.003389  0.901688  0.541307  0.673355  0.254380  0.438243  \n",
       "4    0.007538  0.000421  0.737024  0.007477  0.329881  0.042046  0.158994  \n",
       "..        ...       ...       ...       ...       ...       ...       ...  \n",
       "995  0.553846  0.061096  0.598210  0.541455  0.326384  0.109317  0.133882  \n",
       "996  0.068589  0.059469  0.968701  0.253140  0.640614  0.125996  0.873858  \n",
       "997  0.533201  0.198184  0.274832  0.065974  0.004802  0.804189  0.447884  \n",
       "998  0.703693  0.307943  0.649183  0.544285  0.257590  0.760747  0.005636  \n",
       "999  0.527088  0.610046  0.086363  0.753769  0.005830  0.585337  0.822160  \n",
       "\n",
       "[1000 rows x 1000 columns]"
      ]
     },
     "execution_count": 49,
     "metadata": {},
     "output_type": "execute_result"
    }
   ],
   "source": [
    "squared_matrix"
   ]
  },
  {
   "cell_type": "markdown",
   "id": "db12d482",
   "metadata": {},
   "source": [
    "#### Using the code above, write a function that creates two random matrix (i.e. A and B) of size S x S and multiplies them. "
   ]
  },
  {
   "cell_type": "code",
   "execution_count": 47,
   "id": "d0d53b63",
   "metadata": {},
   "outputs": [],
   "source": [
    "import numpy as np"
   ]
  },
  {
   "cell_type": "code",
   "execution_count": 50,
   "id": "f2f720ac",
   "metadata": {},
   "outputs": [],
   "source": [
    "def mult_rand_matrix(S):\n",
    "    matrix1 = np.random.rand(S, S)\n",
    "    matrix2 = np.random.rand(S, S)\n",
    "    res = np.matmul(matrix1, matrix2)\n",
    "\n",
    "    return matrix1, matrix2, res\n",
    "    \n",
    "    "
   ]
  },
  {
   "cell_type": "markdown",
   "id": "cac1f9c6",
   "metadata": {},
   "source": [
    "What happens when you make the size 1000? 1,000,000? 100,000,000? "
   ]
  },
  {
   "cell_type": "code",
   "execution_count": 54,
   "id": "88ac6096",
   "metadata": {},
   "outputs": [],
   "source": [
    "ex_1 = mult_rand_matrix(1000)\n",
    "ex_2 = mult_rand_matrix(1000000)\n",
    "ex_3 = mult_rand_matrix(100000000)"
   ]
  },
  {
   "cell_type": "markdown",
   "id": "d0adf784",
   "metadata": {},
   "source": [
    "### Computing Distances\n",
    "Write a numpy-based function that calculates a) the Euclidean distance between two points and b)the Manhattan distance. No cheating and using built-in functions."
   ]
  },
  {
   "cell_type": "code",
   "execution_count": 6,
   "id": "650c3296",
   "metadata": {},
   "outputs": [],
   "source": [
    "# Use these points to test\n",
    "point1 = np.array([1, 2])\n",
    "point2 = np.array([4, 6])"
   ]
  },
  {
   "cell_type": "code",
   "execution_count": 9,
   "id": "573ff267",
   "metadata": {},
   "outputs": [],
   "source": [
    "# your code for Euclidean\n",
    "def distances(a, b):\n",
    "    a, b = np.array(a), np.array(b)\n",
    "\n",
    "    diff = a - b\n",
    "    euclidean = np.sqrt(np.sum(diff ** 2))\n",
    "    manhattan = np.sum(np.abs(diff))\n",
    "\n",
    "    return euclidean, manhattan"
   ]
  },
  {
   "cell_type": "code",
   "execution_count": 10,
   "id": "788456f4",
   "metadata": {},
   "outputs": [
    {
     "data": {
      "text/plain": [
       "(2.23606797749979, 3)"
      ]
     },
     "execution_count": 10,
     "metadata": {},
     "output_type": "execute_result"
    }
   ],
   "source": [
    "distances([3,4], [4,2])"
   ]
  },
  {
   "cell_type": "code",
   "execution_count": null,
   "id": "328f804e",
   "metadata": {},
   "outputs": [],
   "source": [
    "# your code for cosine similarity"
   ]
  },
  {
   "cell_type": "markdown",
   "id": "79d1b24f",
   "metadata": {},
   "source": [
    "# Part Two | Understanding regression\n",
    "In this section we will simulate regression data, and then inverse calculate the betas. (This may stretch to the next class). The goal is to get you thinking in matrices instead of numbers."
   ]
  },
  {
   "cell_type": "markdown",
   "id": "f532d6dd",
   "metadata": {},
   "source": [
    "$y = \\beta_0 + \\beta_1 x + \\epsilon$ where $\\epsilon \\in N(0,10)$"
   ]
  },
  {
   "cell_type": "markdown",
   "id": "c5fe8819",
   "metadata": {},
   "source": [
    "Generate a thousand points based on this model, then make a scatter plot using plt.scatter or sns.regplot"
   ]
  },
  {
   "cell_type": "code",
   "execution_count": null,
   "id": "f34d3ed2",
   "metadata": {},
   "outputs": [],
   "source": [
    "# True parameters of the linear model\n",
    "beta_0 = 5   # Intercept\n",
    "beta_1 = 3   # Slope"
   ]
  },
  {
   "cell_type": "code",
   "execution_count": null,
   "id": "123812d2",
   "metadata": {},
   "outputs": [],
   "source": [
    "n = 1000\n",
    "x = np.random.rand(n) * 10\n"
   ]
  },
  {
   "cell_type": "code",
   "execution_count": null,
   "id": "9ff1ecb1",
   "metadata": {},
   "outputs": [],
   "source": []
  },
  {
   "cell_type": "markdown",
   "id": "1fa8afa7",
   "metadata": {},
   "source": [
    "#### Generalize this to a function that takes in n (the number of points), the slope (b1), and intercept (b0). It should return x and y."
   ]
  },
  {
   "cell_type": "code",
   "execution_count": null,
   "id": "dc5dbc3b",
   "metadata": {},
   "outputs": [],
   "source": []
  },
  {
   "cell_type": "markdown",
   "id": "13dcfd75",
   "metadata": {},
   "source": [
    "Inverse computation: Due to the availability of derivaties, an exact solution can be found for the $\\beta$ values. Using the following equations to calculate the beta values."
   ]
  },
  {
   "cell_type": "markdown",
   "id": "b230ac81",
   "metadata": {},
   "source": [
    "$\\beta_1 = \\frac{\\sum_{i=1}^{n} (x_i - \\bar{x})(y_i - \\bar{y})}{\\sum_{i=1}^{n} (x_i - \\bar{x})^2}$\n",
    "\n",
    "    \n",
    "$\\beta_0 = \\bar{y} - \\beta_1 \\bar{x}$\n"
   ]
  },
  {
   "cell_type": "code",
   "execution_count": null,
   "id": "77113a30",
   "metadata": {},
   "outputs": [],
   "source": [
    "# your code"
   ]
  },
  {
   "cell_type": "code",
   "execution_count": null,
   "id": "cbc2b6f5",
   "metadata": {},
   "outputs": [],
   "source": []
  },
  {
   "cell_type": "markdown",
   "id": "b7b03508",
   "metadata": {},
   "source": [
    "### Challenge: What happens when you increase the sample size? Calculate the error of your estimated $\\beta_1$ to the real $\\beta_1$ and plot your error as the sample size increases."
   ]
  },
  {
   "cell_type": "code",
   "execution_count": null,
   "id": "5448f1e3",
   "metadata": {},
   "outputs": [],
   "source": []
  },
  {
   "cell_type": "code",
   "execution_count": null,
   "id": "ec408f06",
   "metadata": {},
   "outputs": [],
   "source": []
  }
 ],
 "metadata": {
  "kernelspec": {
   "display_name": "Python 3 (ipykernel)",
   "language": "python",
   "name": "python3"
  },
  "language_info": {
   "codemirror_mode": {
    "name": "ipython",
    "version": 3
   },
   "file_extension": ".py",
   "mimetype": "text/x-python",
   "name": "python",
   "nbconvert_exporter": "python",
   "pygments_lexer": "ipython3",
   "version": "3.12.7"
  }
 },
 "nbformat": 4,
 "nbformat_minor": 5
}
