{
 "cells": [
  {
   "cell_type": "markdown",
   "id": "5bcf0ced-c736-48aa-a117-8df086ef9969",
   "metadata": {},
   "source": [
    "# Shap explainers and gradient-boosting trees"
   ]
  },
  {
   "cell_type": "code",
   "execution_count": null,
   "id": "f86ceb35-5b13-41a0-a36d-e1c3203285f9",
   "metadata": {},
   "outputs": [],
   "source": [
    "from sklearn.model_selection import train_test_split\n",
    "import pandas as pd\n",
    "from catboost import CatBoostRegressor\n",
    "import shap"
   ]
  },
  {
   "cell_type": "markdown",
   "id": "577d85f4",
   "metadata": {},
   "source": [
    "https://www.kaggle.com/competitions/house-prices-advanced-regression-techniques/rules"
   ]
  },
  {
   "cell_type": "markdown",
   "id": "1489dc65-7a46-46a2-8dc1-3e88bef6f5da",
   "metadata": {},
   "source": [
    "# Numerical Example"
   ]
  },
  {
   "cell_type": "code",
   "execution_count": null,
   "id": "4bd2b1a9",
   "metadata": {},
   "outputs": [],
   "source": [
    "df = pd.read_csv(\"Data/train.csv\")\n",
    "df1 = numerical_df = df.select_dtypes(include=['number'])"
   ]
  },
  {
   "cell_type": "code",
   "execution_count": null,
   "id": "cf85a7df",
   "metadata": {},
   "outputs": [],
   "source": [
    "X = df1[df1.columns[:-1]]\n",
    "y = df1.SalePrice\n",
    "X_train, X_test, y_train, y_test = train_test_split(X, y, test_size=0.2, random_state=42)"
   ]
  },
  {
   "cell_type": "code",
   "execution_count": null,
   "id": "05ebce60",
   "metadata": {},
   "outputs": [],
   "source": [
    "# Initialize CatBoost Regressor\n",
    "catboost_model = CatBoostRegressor(iterations=100, learning_rate=0.1,\n",
    "                                   depth=6, verbose=0)\n",
    "\n",
    "# Train the model\n",
    "catboost_model.fit(X_train, y_train, \n",
    "                   eval_set=(X_test,y_test),\n",
    "                   plot=True)\n",
    "\n",
    "# Make predictions\n",
    "y_pred = catboost_model.predict(X_test)"
   ]
  },
  {
   "cell_type": "markdown",
   "id": "87c65e36-20ae-41f2-b80e-bd8ec423a159",
   "metadata": {},
   "source": [
    "# Shap analysis"
   ]
  },
  {
   "cell_type": "code",
   "execution_count": null,
   "id": "73f8ddf8",
   "metadata": {},
   "outputs": [],
   "source": [
    "# Explain predictions with SHAP\n",
    "explainer = shap.Explainer(catboost_model, X_train)\n",
    "shap_values = explainer(X_test)"
   ]
  },
  {
   "cell_type": "code",
   "execution_count": null,
   "id": "3dba0bf1",
   "metadata": {},
   "outputs": [],
   "source": [
    "# Summary plot\n",
    "shap.summary_plot(shap_values, X_test, max_display=5)"
   ]
  },
  {
   "cell_type": "code",
   "execution_count": null,
   "id": "d524f82c-27a8-4dbf-910d-0ea037a61d8f",
   "metadata": {},
   "outputs": [],
   "source": [
    "# Waterfall plot for a single observation\n",
    "shap.plots.waterfall(shap_values[0])"
   ]
  },
  {
   "cell_type": "code",
   "execution_count": null,
   "id": "d5fbc5e3-4115-4e15-87e1-a8321144a1a0",
   "metadata": {},
   "outputs": [],
   "source": [
    "shap.plots.bar(shap_values)"
   ]
  },
  {
   "cell_type": "markdown",
   "id": "8b36893e-3396-4051-9c37-ebd37f64ff75",
   "metadata": {},
   "source": [
    "More plots available: https://shap.readthedocs.io/en/latest/generated/shap.plots.bar.html"
   ]
  },
  {
   "cell_type": "markdown",
   "id": "3ce199d7-e2f1-4ca5-9d70-bb94f43172e6",
   "metadata": {},
   "source": [
    "## Your turn"
   ]
  },
  {
   "cell_type": "markdown",
   "id": "865991e6-0b06-4abd-8803-3c32e5e541f8",
   "metadata": {},
   "source": [
    "First, plot the correlation of the outputs with the actual home sale prices."
   ]
  },
  {
   "cell_type": "code",
   "execution_count": null,
   "id": "bad6f91a-b28f-4e61-9e27-4bbe926738ae",
   "metadata": {},
   "outputs": [],
   "source": []
  },
  {
   "cell_type": "code",
   "execution_count": null,
   "id": "c40c9149-01c1-4ed3-88a8-5cf3f43f11c9",
   "metadata": {},
   "outputs": [],
   "source": []
  },
  {
   "cell_type": "markdown",
   "id": "3437a982-3c8c-4859-b333-b283c357672f",
   "metadata": {},
   "source": [
    "## Next, add in the categorical variables then train a new CatBoost model. Run this through SHAP\n",
    "What do you observe? What are the top variables now?"
   ]
  },
  {
   "cell_type": "code",
   "execution_count": null,
   "id": "4af7897e-0cfd-44c3-ac93-388c7f5649ed",
   "metadata": {},
   "outputs": [],
   "source": []
  },
  {
   "cell_type": "code",
   "execution_count": null,
   "id": "3e056020-6901-495b-92ac-a91780279fec",
   "metadata": {},
   "outputs": [],
   "source": []
  },
  {
   "cell_type": "code",
   "execution_count": null,
   "id": "53276c51-fbc7-4561-91ee-dbef6a8503ab",
   "metadata": {},
   "outputs": [],
   "source": []
  },
  {
   "cell_type": "code",
   "execution_count": null,
   "id": "f48041e8",
   "metadata": {},
   "outputs": [],
   "source": []
  }
 ],
 "metadata": {
  "kernelspec": {
   "display_name": "Python 3 (ipykernel)",
   "language": "python",
   "name": "python3"
  },
  "language_info": {
   "codemirror_mode": {
    "name": "ipython",
    "version": 3
   },
   "file_extension": ".py",
   "mimetype": "text/x-python",
   "name": "python",
   "nbconvert_exporter": "python",
   "pygments_lexer": "ipython3",
   "version": "3.10.18"
  }
 },
 "nbformat": 4,
 "nbformat_minor": 5
}
