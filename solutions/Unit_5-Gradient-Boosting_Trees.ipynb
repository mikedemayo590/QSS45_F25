{
 "cells": [
  {
   "cell_type": "code",
   "execution_count": 2,
   "id": "2b3d89d2",
   "metadata": {},
   "outputs": [],
   "source": [
    "import seaborn as sns\n",
    "import pandas as pd\n",
    "from sklearn.model_selection import train_test_split\n",
    "from sklearn.metrics import accuracy_score, classification_report\n",
    "from catboost import CatBoostClassifier\n",
    "import numpy as np\n",
    "import pandas as pd\n",
    "import matplotlib.pyplot as plt\n",
    "import seaborn as sns\n",
    "from sklearn.model_selection import train_test_split\n",
    "from sklearn.preprocessing import LabelEncoder\n",
    "from sklearn.tree import DecisionTreeClassifier, DecisionTreeRegressor\n",
    "import time\n",
    "from sklearn.ensemble import RandomForestClassifier, RandomForestRegressor\n",
    "from sklearn.metrics import accuracy_score, classification_report, confusion_matrix"
   ]
  },
  {
   "cell_type": "markdown",
   "id": "49c460d8-8ccc-4c6c-be9b-f16b0115e329",
   "metadata": {},
   "source": [
    "# Same features"
   ]
  },
  {
   "cell_type": "markdown",
   "id": "976bc75a-c792-45ab-9b69-29c44c807b91",
   "metadata": {},
   "source": [
    "We will train a CatBoost model on the Titanic dataset."
   ]
  },
  {
   "cell_type": "code",
   "execution_count": 3,
   "id": "3aa66b1f",
   "metadata": {},
   "outputs": [
    {
     "name": "stderr",
     "output_type": "stream",
     "text": [
      "/var/folders/0w/2wvbn9xx39scmwd7157fzlw80000gn/T/ipykernel_84707/1519588536.py:2: FutureWarning: A value is trying to be set on a copy of a DataFrame or Series through chained assignment using an inplace method.\n",
      "The behavior will change in pandas 3.0. This inplace method will never work because the intermediate object on which we are setting values always behaves as a copy.\n",
      "\n",
      "For example, when doing 'df[col].method(value, inplace=True)', try using 'df.method({col: value}, inplace=True)' or df[col] = df[col].method(value) instead, to perform the operation inplace on the original object.\n",
      "\n",
      "\n",
      "  titanic['age'].fillna(titanic['age'].median(), inplace=True)\n"
     ]
    }
   ],
   "source": [
    "titanic = sns.load_dataset('titanic')\n",
    "titanic['age'].fillna(titanic['age'].median(), inplace=True)"
   ]
  },
  {
   "cell_type": "code",
   "execution_count": 168,
   "id": "cade0f1d",
   "metadata": {},
   "outputs": [],
   "source": [
    "titanic.drop(columns=['who', 'embarked', 'parch', 'fare', \n",
    "                      'deck', 'embark_town', 'alive',\"alone\"], inplace=True)"
   ]
  },
  {
   "cell_type": "code",
   "execution_count": 169,
   "id": "d0114e97",
   "metadata": {},
   "outputs": [],
   "source": [
    "X = titanic.drop(columns=['survived'])\n",
    "y = titanic['survived']\n",
    "\n",
    "cat_features = [\"sex\", \"class\"]\n",
    "\n",
    "X_train, X_test, y_train, y_test = train_test_split(X, y, test_size=0.2, random_state=42)"
   ]
  },
  {
   "cell_type": "code",
   "execution_count": 170,
   "id": "ce99c4d0",
   "metadata": {},
   "outputs": [
    {
     "data": {
      "application/vnd.jupyter.widget-view+json": {
       "model_id": "72eb7302318a44e382c2bbc62bf27c70",
       "version_major": 2,
       "version_minor": 0
      },
      "text/plain": [
       "MetricVisualizer(layout=Layout(align_self='stretch', height='500px'))"
      ]
     },
     "metadata": {},
     "output_type": "display_data"
    },
    {
     "name": "stdout",
     "output_type": "stream",
     "text": [
      "0:\tlearn: 0.6580557\ttest: 0.6605953\tbest: 0.6605953 (0)\ttotal: 12.3ms\tremaining: 12.3s\n",
      "100:\tlearn: 0.3623712\ttest: 0.4389407\tbest: 0.4342884 (54)\ttotal: 169ms\tremaining: 1.5s\n",
      "200:\tlearn: 0.3290721\ttest: 0.4464352\tbest: 0.4342884 (54)\ttotal: 324ms\tremaining: 1.29s\n",
      "300:\tlearn: 0.2948500\ttest: 0.4622076\tbest: 0.4342884 (54)\ttotal: 476ms\tremaining: 1.1s\n",
      "400:\tlearn: 0.2705016\ttest: 0.4815637\tbest: 0.4342884 (54)\ttotal: 639ms\tremaining: 954ms\n",
      "500:\tlearn: 0.2543097\ttest: 0.4819783\tbest: 0.4342884 (54)\ttotal: 810ms\tremaining: 807ms\n",
      "600:\tlearn: 0.2365760\ttest: 0.5020827\tbest: 0.4342884 (54)\ttotal: 1s\tremaining: 665ms\n",
      "700:\tlearn: 0.2223127\ttest: 0.5150031\tbest: 0.4342884 (54)\ttotal: 1.2s\tremaining: 513ms\n",
      "800:\tlearn: 0.2089500\ttest: 0.5183471\tbest: 0.4342884 (54)\ttotal: 1.44s\tremaining: 358ms\n",
      "900:\tlearn: 0.1998820\ttest: 0.5337496\tbest: 0.4342884 (54)\ttotal: 1.6s\tremaining: 176ms\n",
      "999:\tlearn: 0.1909176\ttest: 0.5398363\tbest: 0.4342884 (54)\ttotal: 1.78s\tremaining: 0us\n",
      "\n",
      "bestTest = 0.4342883903\n",
      "bestIteration = 54\n",
      "\n",
      "Shrink model to first 55 iterations.\n"
     ]
    },
    {
     "data": {
      "text/plain": [
       "<catboost.core.CatBoostClassifier at 0x15fcaf940>"
      ]
     },
     "execution_count": 170,
     "metadata": {},
     "output_type": "execute_result"
    }
   ],
   "source": [
    "# Initialize CatBoost Classifier\n",
    "catboost_model = CatBoostClassifier(iterations=1000, \n",
    "                                    learning_rate=0.05, \n",
    "                                    depth=6, \n",
    "                                    verbose=100)\n",
    "\n",
    "# Train the model\n",
    "catboost_model.fit(X_train, y_train, \n",
    "                   eval_set = (X_test, y_test),\n",
    "                   cat_features=cat_features,plot=True)"
   ]
  },
  {
   "cell_type": "code",
   "execution_count": 171,
   "id": "c360a829",
   "metadata": {},
   "outputs": [
    {
     "name": "stdout",
     "output_type": "stream",
     "text": [
      "CatBoost Accuracy: 0.8212\n",
      "              precision    recall  f1-score   support\n",
      "\n",
      "           0       0.80      0.92      0.86       105\n",
      "           1       0.86      0.68      0.76        74\n",
      "\n",
      "    accuracy                           0.82       179\n",
      "   macro avg       0.83      0.80      0.81       179\n",
      "weighted avg       0.83      0.82      0.82       179\n",
      "\n"
     ]
    }
   ],
   "source": [
    "# Make predictions\n",
    "y_pred_cb = catboost_model.predict(X_test)\n",
    "\n",
    "# Evaluate the Cat_boost\n",
    "cb_accuracy = accuracy_score(y_test, y_pred_cb)\n",
    "print(f\"CatBoost Accuracy: {cb_accuracy:.4f}\")\n",
    "print(classification_report(y_test, y_pred_cb))"
   ]
  },
  {
   "cell_type": "code",
   "execution_count": null,
   "id": "6204adfe-1e30-478d-bb56-3a7ae8b39d2f",
   "metadata": {},
   "outputs": [],
   "source": []
  },
  {
   "cell_type": "code",
   "execution_count": null,
   "id": "47b9e076-d0f6-4e21-a088-0889307eedf0",
   "metadata": {},
   "outputs": [],
   "source": []
  },
  {
   "cell_type": "markdown",
   "id": "adeb9c69-bd13-46f1-9d79-bb9c26cf4ba2",
   "metadata": {},
   "source": [
    "# Other features"
   ]
  },
  {
   "cell_type": "markdown",
   "id": "f97d5726-fe86-4a75-b3c8-661c65c35929",
   "metadata": {},
   "source": [
    "Try adding other categorical features. Does your accuracy improve?"
   ]
  },
  {
   "cell_type": "code",
   "execution_count": 4,
   "id": "f194be3e-b5e4-47e1-bc61-91592bcd4ea0",
   "metadata": {},
   "outputs": [
    {
     "name": "stderr",
     "output_type": "stream",
     "text": [
      "/var/folders/0w/2wvbn9xx39scmwd7157fzlw80000gn/T/ipykernel_84707/2684019040.py:2: FutureWarning: A value is trying to be set on a copy of a DataFrame or Series through chained assignment using an inplace method.\n",
      "The behavior will change in pandas 3.0. This inplace method will never work because the intermediate object on which we are setting values always behaves as a copy.\n",
      "\n",
      "For example, when doing 'df[col].method(value, inplace=True)', try using 'df.method({col: value}, inplace=True)' or df[col] = df[col].method(value) instead, to perform the operation inplace on the original object.\n",
      "\n",
      "\n",
      "  titanic['age'].fillna(titanic['age'].median(), inplace=True)\n"
     ]
    }
   ],
   "source": [
    "titanic = sns.load_dataset('titanic')\n",
    "titanic['age'].fillna(titanic['age'].median(), inplace=True)\n",
    "titanic.drop(columns=['who', \"parch\", \"alive\",\"alone\", \"deck\", \"embarked\"], inplace=True)"
   ]
  },
  {
   "cell_type": "code",
   "execution_count": 7,
   "id": "0898090e-6afe-49be-892d-6233f6b2fb36",
   "metadata": {},
   "outputs": [],
   "source": [
    "X = titanic.drop(columns=['survived'])\n",
    "y = titanic['survived']\n",
    "\n",
    "cat_features = [\"sex\", \"class\",  \"embark_town\",]\n",
    "X[cat_features] = X[cat_features].astype(str).replace(\"nan\",\"Boop\")\n",
    "X[cat_features] = X[cat_features].fillna(\"Boop\")\n",
    "\n",
    "X_train, X_test, y_train, y_test = train_test_split(X, y, test_size=0.2, random_state=42)"
   ]
  },
  {
   "cell_type": "code",
   "execution_count": null,
   "id": "1121e070-1480-4c3a-b4e7-661dd5d1cfdd",
   "metadata": {},
   "outputs": [],
   "source": []
  },
  {
   "cell_type": "code",
   "execution_count": 8,
   "id": "a295ac35-e848-4872-9fd6-b3393eec36c8",
   "metadata": {},
   "outputs": [
    {
     "data": {
      "application/vnd.jupyter.widget-view+json": {
       "model_id": "932c073045f24ff1a8cfba4bb681a698",
       "version_major": 2,
       "version_minor": 0
      },
      "text/plain": [
       "MetricVisualizer(layout=Layout(align_self='stretch', height='500px'))"
      ]
     },
     "metadata": {},
     "output_type": "display_data"
    },
    {
     "name": "stdout",
     "output_type": "stream",
     "text": [
      "0:\tlearn: 0.6581604\ttest: 0.6597125\tbest: 0.6597125 (0)\ttotal: 67.8ms\tremaining: 1m 7s\n",
      "100:\tlearn: 0.3482876\ttest: 0.4233265\tbest: 0.4232186 (98)\ttotal: 217ms\tremaining: 1.93s\n",
      "200:\tlearn: 0.2916384\ttest: 0.4222672\tbest: 0.4200074 (186)\ttotal: 354ms\tremaining: 1.41s\n",
      "300:\tlearn: 0.2437262\ttest: 0.4207457\tbest: 0.4187154 (244)\ttotal: 511ms\tremaining: 1.19s\n",
      "400:\tlearn: 0.2106366\ttest: 0.4267774\tbest: 0.4187154 (244)\ttotal: 676ms\tremaining: 1.01s\n",
      "500:\tlearn: 0.1800107\ttest: 0.4290173\tbest: 0.4187154 (244)\ttotal: 831ms\tremaining: 827ms\n",
      "600:\tlearn: 0.1589776\ttest: 0.4323846\tbest: 0.4187154 (244)\ttotal: 996ms\tremaining: 661ms\n",
      "700:\tlearn: 0.1419817\ttest: 0.4382693\tbest: 0.4187154 (244)\ttotal: 1.16s\tremaining: 494ms\n",
      "800:\tlearn: 0.1287051\ttest: 0.4407800\tbest: 0.4187154 (244)\ttotal: 1.31s\tremaining: 325ms\n",
      "900:\tlearn: 0.1167439\ttest: 0.4464775\tbest: 0.4187154 (244)\ttotal: 1.46s\tremaining: 161ms\n",
      "999:\tlearn: 0.1053093\ttest: 0.4542332\tbest: 0.4187154 (244)\ttotal: 1.62s\tremaining: 0us\n",
      "\n",
      "bestTest = 0.4187154343\n",
      "bestIteration = 244\n",
      "\n",
      "Shrink model to first 245 iterations.\n"
     ]
    },
    {
     "data": {
      "text/plain": [
       "<catboost.core.CatBoostClassifier at 0x1875a7b80>"
      ]
     },
     "execution_count": 8,
     "metadata": {},
     "output_type": "execute_result"
    }
   ],
   "source": [
    "# Initialize CatBoost Classifier\n",
    "catboost_model = CatBoostClassifier(iterations=1000, \n",
    "                                    learning_rate=0.05, \n",
    "                                    depth=6, \n",
    "                                    verbose=100)\n",
    "\n",
    "# Train the model\n",
    "catboost_model.fit(X_train, y_train, \n",
    "                   eval_set = (X_test, y_test),\n",
    "                   cat_features=cat_features,\n",
    "                   plot=True)"
   ]
  },
  {
   "cell_type": "code",
   "execution_count": 9,
   "id": "473c4d00-a40b-4edc-aa48-03be6e4dedb2",
   "metadata": {},
   "outputs": [
    {
     "name": "stdout",
     "output_type": "stream",
     "text": [
      "CatBoost Accuracy: 0.8101\n",
      "              precision    recall  f1-score   support\n",
      "\n",
      "           0       0.80      0.90      0.85       105\n",
      "           1       0.82      0.69      0.75        74\n",
      "\n",
      "    accuracy                           0.81       179\n",
      "   macro avg       0.81      0.79      0.80       179\n",
      "weighted avg       0.81      0.81      0.81       179\n",
      "\n"
     ]
    }
   ],
   "source": [
    "# Make predictions\n",
    "y_pred_cb = catboost_model.predict(X_test)\n",
    "\n",
    "# Evaluate the Cat_boost\n",
    "cb_accuracy = accuracy_score(y_test, y_pred_cb)\n",
    "print(f\"CatBoost Accuracy: {cb_accuracy:.4f}\")\n",
    "print(classification_report(y_test, y_pred_cb))"
   ]
  },
  {
   "cell_type": "code",
   "execution_count": null,
   "id": "e994d51f-c21c-4f0a-b98d-2f5a57f2c47f",
   "metadata": {},
   "outputs": [],
   "source": []
  },
  {
   "cell_type": "code",
   "execution_count": null,
   "id": "f073969a-9fb4-414d-8e20-cb264a9b745d",
   "metadata": {},
   "outputs": [],
   "source": []
  },
  {
   "cell_type": "markdown",
   "id": "5f30d476-178a-4a17-93d3-66134be5bc40",
   "metadata": {},
   "source": [
    "# Regression"
   ]
  },
  {
   "cell_type": "markdown",
   "id": "e8439914-dc2e-4813-9622-2aba44171d49",
   "metadata": {},
   "source": [
    "### Now, you will try doing regression instead of classification. \n",
    "Using the California housing dataset, train regression models using Decision Trees, Random Forest, and CatBoost. Then, plot them using sns.regplot. If the points are annoying, set scatter = False. "
   ]
  },
  {
   "cell_type": "code",
   "execution_count": 10,
   "id": "c7d49086-4b2b-4543-9dfc-b5f8f5488646",
   "metadata": {},
   "outputs": [],
   "source": [
    "# Import necessary libraries\n",
    "from catboost import CatBoostRegressor\n",
    "from sklearn.datasets import fetch_california_housing\n",
    "from sklearn.model_selection import train_test_split\n",
    "from sklearn.metrics import mean_squared_error\n",
    "import pandas as pd\n",
    "\n",
    "# Load the California housing dataset\n",
    "data = fetch_california_housing()\n",
    "X = pd.DataFrame(data.data, columns=data.feature_names)\n",
    "y = data.target\n",
    "\n"
   ]
  },
  {
   "cell_type": "code",
   "execution_count": 12,
   "id": "4447e1b1-8d8a-4842-8170-a6e47bfe2ce2",
   "metadata": {},
   "outputs": [
    {
     "data": {
      "application/vnd.jupyter.widget-view+json": {
       "model_id": "fd3d8da25ffc452981c3e7cd4e6cc81d",
       "version_major": 2,
       "version_minor": 0
      },
      "text/plain": [
       "MetricVisualizer(layout=Layout(align_self='stretch', height='500px'))"
      ]
     },
     "metadata": {},
     "output_type": "display_data"
    },
    {
     "name": "stdout",
     "output_type": "stream",
     "text": [
      "0:\tlearn: 1.0916893\ttest: 1.0827828\tbest: 1.0827828 (0)\ttotal: 3.74ms\tremaining: 15s\n",
      "100:\tlearn: 0.4856977\ttest: 0.5141492\tbest: 0.5141492 (100)\ttotal: 166ms\tremaining: 6.42s\n",
      "200:\tlearn: 0.4317457\ttest: 0.4778063\tbest: 0.4778063 (200)\ttotal: 331ms\tremaining: 6.26s\n",
      "300:\tlearn: 0.4010594\ttest: 0.4626636\tbest: 0.4626636 (300)\ttotal: 541ms\tremaining: 6.64s\n",
      "400:\tlearn: 0.3779586\ttest: 0.4540902\tbest: 0.4540902 (400)\ttotal: 826ms\tremaining: 7.42s\n",
      "500:\tlearn: 0.3608106\ttest: 0.4491909\tbest: 0.4491909 (500)\ttotal: 1.03s\tremaining: 7.18s\n",
      "600:\tlearn: 0.3459401\ttest: 0.4454644\tbest: 0.4454644 (600)\ttotal: 1.2s\tremaining: 6.79s\n",
      "700:\tlearn: 0.3332879\ttest: 0.4430853\tbest: 0.4430408 (699)\ttotal: 1.37s\tremaining: 6.46s\n",
      "800:\tlearn: 0.3220272\ttest: 0.4405790\tbest: 0.4405790 (800)\ttotal: 1.59s\tremaining: 6.34s\n",
      "900:\tlearn: 0.3119731\ttest: 0.4386333\tbest: 0.4386333 (900)\ttotal: 1.75s\tremaining: 6.04s\n",
      "1000:\tlearn: 0.3024137\ttest: 0.4374077\tbest: 0.4373177 (980)\ttotal: 1.92s\tremaining: 5.76s\n",
      "1100:\tlearn: 0.2930519\ttest: 0.4354324\tbest: 0.4354281 (1098)\ttotal: 2.1s\tremaining: 5.52s\n",
      "1200:\tlearn: 0.2845971\ttest: 0.4340227\tbest: 0.4339700 (1197)\ttotal: 2.28s\tremaining: 5.32s\n",
      "1300:\tlearn: 0.2766294\ttest: 0.4330511\tbest: 0.4330511 (1300)\ttotal: 2.46s\tremaining: 5.09s\n",
      "1400:\tlearn: 0.2690566\ttest: 0.4322840\tbest: 0.4322296 (1397)\ttotal: 2.66s\tremaining: 4.93s\n",
      "1500:\tlearn: 0.2620988\ttest: 0.4320566\tbest: 0.4320211 (1496)\ttotal: 2.84s\tremaining: 4.73s\n",
      "1600:\tlearn: 0.2553542\ttest: 0.4313235\tbest: 0.4313235 (1600)\ttotal: 3.09s\tremaining: 4.63s\n",
      "1700:\tlearn: 0.2491924\ttest: 0.4308258\tbest: 0.4308035 (1692)\ttotal: 3.3s\tremaining: 4.46s\n",
      "1800:\tlearn: 0.2433076\ttest: 0.4302969\tbest: 0.4301816 (1783)\ttotal: 3.54s\tremaining: 4.32s\n",
      "1900:\tlearn: 0.2378041\ttest: 0.4295276\tbest: 0.4294751 (1898)\ttotal: 3.77s\tremaining: 4.16s\n",
      "2000:\tlearn: 0.2319774\ttest: 0.4290598\tbest: 0.4290598 (2000)\ttotal: 4s\tremaining: 3.99s\n",
      "2100:\tlearn: 0.2268922\ttest: 0.4283428\tbest: 0.4283428 (2100)\ttotal: 4.19s\tremaining: 3.79s\n",
      "2200:\tlearn: 0.2218700\ttest: 0.4282365\tbest: 0.4281898 (2127)\ttotal: 4.4s\tremaining: 3.6s\n",
      "2300:\tlearn: 0.2171152\ttest: 0.4279951\tbest: 0.4279598 (2278)\ttotal: 4.58s\tremaining: 3.38s\n",
      "2400:\tlearn: 0.2127473\ttest: 0.4280776\tbest: 0.4279263 (2342)\ttotal: 4.75s\tremaining: 3.16s\n",
      "2500:\tlearn: 0.2084630\ttest: 0.4277584\tbest: 0.4277223 (2499)\ttotal: 4.95s\tremaining: 2.97s\n",
      "2600:\tlearn: 0.2043438\ttest: 0.4275224\tbest: 0.4275070 (2598)\ttotal: 5.12s\tremaining: 2.75s\n",
      "2700:\tlearn: 0.2003831\ttest: 0.4276859\tbest: 0.4274713 (2604)\ttotal: 5.29s\tremaining: 2.54s\n",
      "2800:\tlearn: 0.1966003\ttest: 0.4276828\tbest: 0.4274713 (2604)\ttotal: 5.47s\tremaining: 2.34s\n",
      "2900:\tlearn: 0.1927012\ttest: 0.4276362\tbest: 0.4274141 (2870)\ttotal: 5.65s\tremaining: 2.14s\n",
      "3000:\tlearn: 0.1891802\ttest: 0.4276489\tbest: 0.4274141 (2870)\ttotal: 5.83s\tremaining: 1.94s\n",
      "3100:\tlearn: 0.1857079\ttest: 0.4276519\tbest: 0.4274141 (2870)\ttotal: 6.04s\tremaining: 1.75s\n",
      "3200:\tlearn: 0.1825559\ttest: 0.4276111\tbest: 0.4274141 (2870)\ttotal: 6.22s\tremaining: 1.55s\n",
      "3300:\tlearn: 0.1792316\ttest: 0.4276393\tbest: 0.4274141 (2870)\ttotal: 6.4s\tremaining: 1.35s\n",
      "3400:\tlearn: 0.1759722\ttest: 0.4276804\tbest: 0.4274141 (2870)\ttotal: 6.57s\tremaining: 1.16s\n",
      "3500:\tlearn: 0.1729013\ttest: 0.4275424\tbest: 0.4274141 (2870)\ttotal: 6.75s\tremaining: 962ms\n",
      "3600:\tlearn: 0.1697886\ttest: 0.4272677\tbest: 0.4271888 (3595)\ttotal: 6.96s\tremaining: 771ms\n",
      "3700:\tlearn: 0.1667832\ttest: 0.4271529\tbest: 0.4271036 (3676)\ttotal: 7.16s\tremaining: 579ms\n",
      "3800:\tlearn: 0.1640062\ttest: 0.4272004\tbest: 0.4270758 (3715)\ttotal: 7.37s\tremaining: 386ms\n",
      "3900:\tlearn: 0.1613341\ttest: 0.4273212\tbest: 0.4270758 (3715)\ttotal: 7.54s\tremaining: 191ms\n",
      "3999:\tlearn: 0.1588138\ttest: 0.4274434\tbest: 0.4270758 (3715)\ttotal: 7.7s\tremaining: 0us\n",
      "\n",
      "bestTest = 0.4270757703\n",
      "bestIteration = 3715\n",
      "\n",
      "Shrink model to first 3716 iterations.\n"
     ]
    },
    {
     "data": {
      "text/plain": [
       "<catboost.core.CatBoostRegressor at 0x10f186890>"
      ]
     },
     "execution_count": 12,
     "metadata": {},
     "output_type": "execute_result"
    }
   ],
   "source": [
    "# Split the data into training and testing sets\n",
    "X_train, X_test, y_train, y_test = train_test_split(X, y, test_size=0.2, random_state=42)\n",
    "\n",
    "# Initialize the CatBoost regressor\n",
    "model = CatBoostRegressor(iterations=4000, learning_rate=0.1, depth=6, verbose=100,)\n",
    "\n",
    "# Fit the model to the training data\n",
    "model.fit(X_train, y_train, plot=True,eval_set = (X_test, y_test),)\n",
    "\n"
   ]
  },
  {
   "cell_type": "code",
   "execution_count": 13,
   "id": "b831092b-6d9f-4ed9-9b59-8a4975c61a65",
   "metadata": {},
   "outputs": [
    {
     "name": "stdout",
     "output_type": "stream",
     "text": [
      "Mean Squared Error: 0.18239371314171032\n"
     ]
    }
   ],
   "source": [
    "# Make predictions on the test set\n",
    "y_pred = model.predict(X_test)\n",
    "\n",
    "# Evaluate the model\n",
    "mse = mean_squared_error(y_test, y_pred)\n",
    "print(f\"Mean Squared Error: {mse}\")"
   ]
  },
  {
   "cell_type": "code",
   "execution_count": 14,
   "id": "05ced0c0-309a-450c-8a10-b2b5a06f5ea7",
   "metadata": {},
   "outputs": [
    {
     "name": "stdout",
     "output_type": "stream",
     "text": [
      "CPU times: user 65.2 ms, sys: 6.55 ms, total: 71.7 ms\n",
      "Wall time: 78.4 ms\n"
     ]
    }
   ],
   "source": [
    "%%time\n",
    "\n",
    "# Train the Decision Tree\n",
    "decision_tree = DecisionTreeRegressor(random_state=42, max_depth=4)\n",
    "decision_tree.fit(X_train, y_train)\n",
    "\n",
    "# Make predictions\n",
    "y_pred_dt = decision_tree.predict(X_test)\n"
   ]
  },
  {
   "cell_type": "code",
   "execution_count": 15,
   "id": "b247370c-38a0-431b-94b3-414b7431eea0",
   "metadata": {},
   "outputs": [
    {
     "data": {
      "text/plain": [
       "<Axes: >"
      ]
     },
     "execution_count": 15,
     "metadata": {},
     "output_type": "execute_result"
    },
    {
     "data": {
      "image/png": "[encoded data removed]",
      "text/plain": [
       "<Figure size 640x480 with 1 Axes>"
      ]
     },
     "metadata": {},
     "output_type": "display_data"
    }
   ],
   "source": [
    "sns.regplot(x=y_test, y=y_pred_dt)"
   ]
  },
  {
   "cell_type": "code",
   "execution_count": 16,
   "id": "d92d19a7-8c21-4c95-ada7-bc1654d2e420",
   "metadata": {},
   "outputs": [
    {
     "name": "stdout",
     "output_type": "stream",
     "text": [
      "CPU times: user 10.9 s, sys: 121 ms, total: 11 s\n",
      "Wall time: 11.1 s\n"
     ]
    }
   ],
   "source": [
    "%%time\n",
    "# Train the Random Forest\n",
    "random_forest = RandomForestRegressor(n_estimators=100, random_state=42)\n",
    "random_forest.fit(X_train, y_train)\n",
    "\n",
    "# Make predictions\n",
    "y_pred_rf = random_forest.predict(X_test)"
   ]
  },
  {
   "cell_type": "code",
   "execution_count": 17,
   "id": "3b9bc968-433d-44b5-b31f-2cf77940fb74",
   "metadata": {},
   "outputs": [
    {
     "name": "stdout",
     "output_type": "stream",
     "text": [
      "Decision Tree:  0.7445739000316115\n",
      "Random Forest:  0.8975174160828814\n",
      "Catboost:  0.9278144522012132\n"
     ]
    }
   ],
   "source": [
    "print(\"Decision Tree: \", np.corrcoef(y_test,y_pred_dt)[0,1])\n",
    "print(\"Random Forest: \", np.corrcoef(y_test,y_pred_rf)[0,1])\n",
    "print(\"Catboost: \", np.corrcoef(y_test,y_pred)[0,1])"
   ]
  },
  {
   "cell_type": "code",
   "execution_count": 18,
   "id": "54043156-2301-483a-92ae-9c604a7c9519",
   "metadata": {},
   "outputs": [
    {
     "data": {
      "text/plain": [
       "<Axes: >"
      ]
     },
     "execution_count": 18,
     "metadata": {},
     "output_type": "execute_result"
    },
    {
     "data": {
      "image/png": "[encoded data removed]",
      "text/plain": [
       "<Figure size 640x480 with 1 Axes>"
      ]
     },
     "metadata": {},
     "output_type": "display_data"
    }
   ],
   "source": [
    "sns.regplot(x = y_test, y = y_pred_dt, scatter=False)\n",
    "sns.regplot(x = y_test, y = y_pred_rf, scatter=False)\n",
    "sns.regplot(x = y_test, y = y_pred, scatter=False)"
   ]
  },
  {
   "cell_type": "code",
   "execution_count": null,
   "id": "afa0fc73-9500-43ab-a138-660f1e8f70e0",
   "metadata": {},
   "outputs": [],
   "source": []
  },
  {
   "cell_type": "code",
   "execution_count": null,
   "id": "007e534d-85c1-48bd-a88f-9be804267eb4",
   "metadata": {},
   "outputs": [],
   "source": []
  },
  {
   "cell_type": "code",
   "execution_count": null,
   "id": "1dd3eb93-2f9e-4945-afe7-c695c868b1f0",
   "metadata": {},
   "outputs": [],
   "source": []
  },
  {
   "cell_type": "code",
   "execution_count": null,
   "id": "ba44ad5a-f797-4768-ad95-36a410180eaa",
   "metadata": {},
   "outputs": [],
   "source": []
  },
  {
   "cell_type": "code",
   "execution_count": null,
   "id": "972d7d61",
   "metadata": {},
   "outputs": [],
   "source": []
  },
  {
   "cell_type": "code",
   "execution_count": null,
   "id": "4cf0f6d1",
   "metadata": {},
   "outputs": [],
   "source": []
  },
  {
   "cell_type": "code",
   "execution_count": null,
   "id": "5eadb046",
   "metadata": {},
   "outputs": [],
   "source": []
  }
 ],
 "metadata": {
  "kernelspec": {
   "display_name": "Python 3 (ipykernel)",
   "language": "python",
   "name": "python3"
  },
  "language_info": {
   "codemirror_mode": {
    "name": "ipython",
    "version": 3
   },
   "file_extension": ".py",
   "mimetype": "text/x-python",
   "name": "python",
   "nbconvert_exporter": "python",
   "pygments_lexer": "ipython3",
   "version": "3.10.18"
  }
 },
 "nbformat": 4,
 "nbformat_minor": 5
}
